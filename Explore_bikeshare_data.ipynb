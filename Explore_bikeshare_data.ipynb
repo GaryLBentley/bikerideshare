{
 "cells": [
  {
   "attachments": {},
   "cell_type": "markdown",
   "metadata": {},
   "source": [
    "### Explore Bike Share Data\n",
    "\n",
    "For this project, your goal is to ask and answer three questions about the available bikeshare data from Washington, Chicago, and New York.  This notebook can be submitted directly through the workspace when you are confident in your results.\n",
    "\n",
    "You will be graded against the project [Rubric](https://review.udacity.com/#!/rubrics/2508/view) by a mentor after you have submitted.  To get you started, you can use the template below, but feel free to be creative in your solutions!"
   ]
  },
  {
   "cell_type": "code",
   "execution_count": null,
   "metadata": {
    "vscode": {
     "languageId": "r"
    }
   },
   "outputs": [],
   "source": [
    "# Install hms library to convert times\n",
    "install.packages(\"hms\")\n",
    "library(\"hms\")\n",
    "\n",
    "# Install ggplot2\n",
    "install.packages('ggplot2')\n",
    "library(ggplot2)\n",
    "\n",
    "install.packages('gridExtra')\n",
    "require(gridExtra)\n",
    "\n",
    "# Make charts wider\n",
    "options(repr.plot.width=15, repr.plot.height=8)"
   ]
  },
  {
   "cell_type": "code",
   "execution_count": 197,
   "metadata": {
    "vscode": {
     "languageId": "r"
    }
   },
   "outputs": [],
   "source": [
    "ny = read.csv('new_york_city.csv')\n",
    "wash = read.csv('washington.csv')\n",
    "chi = read.csv('chicago.csv')"
   ]
  },
  {
   "cell_type": "code",
   "execution_count": 125,
   "metadata": {
    "vscode": {
     "languageId": "r"
    }
   },
   "outputs": [
    {
     "data": {
      "text/html": [
       "<table class=\"dataframe\">\n",
       "<caption>A data.frame: 6 × 9</caption>\n",
       "<thead>\n",
       "\t<tr><th></th><th scope=col>X</th><th scope=col>Start.Time</th><th scope=col>End.Time</th><th scope=col>Trip.Duration</th><th scope=col>Start.Station</th><th scope=col>End.Station</th><th scope=col>User.Type</th><th scope=col>Gender</th><th scope=col>Birth.Year</th></tr>\n",
       "\t<tr><th></th><th scope=col>&lt;int&gt;</th><th scope=col>&lt;chr&gt;</th><th scope=col>&lt;chr&gt;</th><th scope=col>&lt;int&gt;</th><th scope=col>&lt;chr&gt;</th><th scope=col>&lt;chr&gt;</th><th scope=col>&lt;chr&gt;</th><th scope=col>&lt;chr&gt;</th><th scope=col>&lt;dbl&gt;</th></tr>\n",
       "</thead>\n",
       "<tbody>\n",
       "\t<tr><th scope=row>1</th><td>5688089</td><td>2017-06-11 14:55:05</td><td>2017-06-11 15:08:21</td><td> 795</td><td>Suffolk St &amp; Stanton St</td><td>W Broadway &amp; Spring St</td><td>Subscriber</td><td><span style=white-space:pre-wrap>Male  </span></td><td>1998</td></tr>\n",
       "\t<tr><th scope=row>2</th><td>4096714</td><td>2017-05-11 15:30:11</td><td>2017-05-11 15:41:43</td><td> 692</td><td>Lexington Ave &amp; E 63 St</td><td><span style=white-space:pre-wrap>1 Ave &amp; E 78 St       </span></td><td>Subscriber</td><td><span style=white-space:pre-wrap>Male  </span></td><td>1981</td></tr>\n",
       "\t<tr><th scope=row>3</th><td>2173887</td><td>2017-03-29 13:26:26</td><td>2017-03-29 13:48:31</td><td>1325</td><td><span style=white-space:pre-wrap>1 Pl &amp; Clinton St      </span></td><td><span style=white-space:pre-wrap>Henry St &amp; Degraw St  </span></td><td>Subscriber</td><td><span style=white-space:pre-wrap>Male  </span></td><td>1987</td></tr>\n",
       "\t<tr><th scope=row>4</th><td>3945638</td><td>2017-05-08 19:47:18</td><td>2017-05-08 19:59:01</td><td> 703</td><td><span style=white-space:pre-wrap>Barrow St &amp; Hudson St  </span></td><td><span style=white-space:pre-wrap>W 20 St &amp; 8 Ave       </span></td><td>Subscriber</td><td>Female</td><td>1986</td></tr>\n",
       "\t<tr><th scope=row>5</th><td>6208972</td><td>2017-06-21 07:49:16</td><td>2017-06-21 07:54:46</td><td> 329</td><td><span style=white-space:pre-wrap>1 Ave &amp; E 44 St        </span></td><td><span style=white-space:pre-wrap>E 53 St &amp; 3 Ave       </span></td><td>Subscriber</td><td><span style=white-space:pre-wrap>Male  </span></td><td>1992</td></tr>\n",
       "\t<tr><th scope=row>6</th><td>1285652</td><td>2017-02-22 18:55:24</td><td>2017-02-22 19:12:03</td><td> 998</td><td><span style=white-space:pre-wrap>State St &amp; Smith St    </span></td><td><span style=white-space:pre-wrap>Bond St &amp; Fulton St   </span></td><td>Subscriber</td><td><span style=white-space:pre-wrap>Male  </span></td><td>1986</td></tr>\n",
       "</tbody>\n",
       "</table>\n"
      ],
      "text/latex": [
       "A data.frame: 6 × 9\n",
       "\\begin{tabular}{r|lllllllll}\n",
       "  & X & Start.Time & End.Time & Trip.Duration & Start.Station & End.Station & User.Type & Gender & Birth.Year\\\\\n",
       "  & <int> & <chr> & <chr> & <int> & <chr> & <chr> & <chr> & <chr> & <dbl>\\\\\n",
       "\\hline\n",
       "\t1 & 5688089 & 2017-06-11 14:55:05 & 2017-06-11 15:08:21 &  795 & Suffolk St \\& Stanton St & W Broadway \\& Spring St & Subscriber & Male   & 1998\\\\\n",
       "\t2 & 4096714 & 2017-05-11 15:30:11 & 2017-05-11 15:41:43 &  692 & Lexington Ave \\& E 63 St & 1 Ave \\& E 78 St        & Subscriber & Male   & 1981\\\\\n",
       "\t3 & 2173887 & 2017-03-29 13:26:26 & 2017-03-29 13:48:31 & 1325 & 1 Pl \\& Clinton St       & Henry St \\& Degraw St   & Subscriber & Male   & 1987\\\\\n",
       "\t4 & 3945638 & 2017-05-08 19:47:18 & 2017-05-08 19:59:01 &  703 & Barrow St \\& Hudson St   & W 20 St \\& 8 Ave        & Subscriber & Female & 1986\\\\\n",
       "\t5 & 6208972 & 2017-06-21 07:49:16 & 2017-06-21 07:54:46 &  329 & 1 Ave \\& E 44 St         & E 53 St \\& 3 Ave        & Subscriber & Male   & 1992\\\\\n",
       "\t6 & 1285652 & 2017-02-22 18:55:24 & 2017-02-22 19:12:03 &  998 & State St \\& Smith St     & Bond St \\& Fulton St    & Subscriber & Male   & 1986\\\\\n",
       "\\end{tabular}\n"
      ],
      "text/markdown": [
       "\n",
       "A data.frame: 6 × 9\n",
       "\n",
       "| <!--/--> | X &lt;int&gt; | Start.Time &lt;chr&gt; | End.Time &lt;chr&gt; | Trip.Duration &lt;int&gt; | Start.Station &lt;chr&gt; | End.Station &lt;chr&gt; | User.Type &lt;chr&gt; | Gender &lt;chr&gt; | Birth.Year &lt;dbl&gt; |\n",
       "|---|---|---|---|---|---|---|---|---|---|\n",
       "| 1 | 5688089 | 2017-06-11 14:55:05 | 2017-06-11 15:08:21 |  795 | Suffolk St &amp; Stanton St | W Broadway &amp; Spring St | Subscriber | Male   | 1998 |\n",
       "| 2 | 4096714 | 2017-05-11 15:30:11 | 2017-05-11 15:41:43 |  692 | Lexington Ave &amp; E 63 St | 1 Ave &amp; E 78 St        | Subscriber | Male   | 1981 |\n",
       "| 3 | 2173887 | 2017-03-29 13:26:26 | 2017-03-29 13:48:31 | 1325 | 1 Pl &amp; Clinton St       | Henry St &amp; Degraw St   | Subscriber | Male   | 1987 |\n",
       "| 4 | 3945638 | 2017-05-08 19:47:18 | 2017-05-08 19:59:01 |  703 | Barrow St &amp; Hudson St   | W 20 St &amp; 8 Ave        | Subscriber | Female | 1986 |\n",
       "| 5 | 6208972 | 2017-06-21 07:49:16 | 2017-06-21 07:54:46 |  329 | 1 Ave &amp; E 44 St         | E 53 St &amp; 3 Ave        | Subscriber | Male   | 1992 |\n",
       "| 6 | 1285652 | 2017-02-22 18:55:24 | 2017-02-22 19:12:03 |  998 | State St &amp; Smith St     | Bond St &amp; Fulton St    | Subscriber | Male   | 1986 |\n",
       "\n"
      ],
      "text/plain": [
       "  X       Start.Time          End.Time            Trip.Duration\n",
       "1 5688089 2017-06-11 14:55:05 2017-06-11 15:08:21  795         \n",
       "2 4096714 2017-05-11 15:30:11 2017-05-11 15:41:43  692         \n",
       "3 2173887 2017-03-29 13:26:26 2017-03-29 13:48:31 1325         \n",
       "4 3945638 2017-05-08 19:47:18 2017-05-08 19:59:01  703         \n",
       "5 6208972 2017-06-21 07:49:16 2017-06-21 07:54:46  329         \n",
       "6 1285652 2017-02-22 18:55:24 2017-02-22 19:12:03  998         \n",
       "  Start.Station           End.Station            User.Type  Gender Birth.Year\n",
       "1 Suffolk St & Stanton St W Broadway & Spring St Subscriber Male   1998      \n",
       "2 Lexington Ave & E 63 St 1 Ave & E 78 St        Subscriber Male   1981      \n",
       "3 1 Pl & Clinton St       Henry St & Degraw St   Subscriber Male   1987      \n",
       "4 Barrow St & Hudson St   W 20 St & 8 Ave        Subscriber Female 1986      \n",
       "5 1 Ave & E 44 St         E 53 St & 3 Ave        Subscriber Male   1992      \n",
       "6 State St & Smith St     Bond St & Fulton St    Subscriber Male   1986      "
      ]
     },
     "metadata": {},
     "output_type": "display_data"
    }
   ],
   "source": [
    "head(ny)"
   ]
  },
  {
   "cell_type": "code",
   "execution_count": 33,
   "metadata": {
    "vscode": {
     "languageId": "r"
    }
   },
   "outputs": [
    {
     "data": {
      "text/html": [
       "<table class=\"dataframe\">\n",
       "<caption>A data.frame: 6 × 7</caption>\n",
       "<thead>\n",
       "\t<tr><th></th><th scope=col>X</th><th scope=col>Start.Time</th><th scope=col>End.Time</th><th scope=col>Trip.Duration</th><th scope=col>Start.Station</th><th scope=col>End.Station</th><th scope=col>User.Type</th></tr>\n",
       "\t<tr><th></th><th scope=col>&lt;int&gt;</th><th scope=col>&lt;chr&gt;</th><th scope=col>&lt;chr&gt;</th><th scope=col>&lt;dbl&gt;</th><th scope=col>&lt;chr&gt;</th><th scope=col>&lt;chr&gt;</th><th scope=col>&lt;chr&gt;</th></tr>\n",
       "</thead>\n",
       "<tbody>\n",
       "\t<tr><th scope=row>1</th><td>1621326</td><td>2017-06-21 08:36:34</td><td>2017-06-21 08:44:43</td><td> 489.066</td><td><span style=white-space:pre-wrap>14th &amp; Belmont St NW                       </span></td><td><span style=white-space:pre-wrap>15th &amp; K St NW                                     </span></td><td>Subscriber</td></tr>\n",
       "\t<tr><th scope=row>2</th><td> 482740</td><td>2017-03-11 10:40:00</td><td>2017-03-11 10:46:00</td><td> 402.549</td><td><span style=white-space:pre-wrap>Yuma St &amp; Tenley Circle NW                 </span></td><td><span style=white-space:pre-wrap>Connecticut Ave &amp; Yuma St NW                       </span></td><td>Subscriber</td></tr>\n",
       "\t<tr><th scope=row>3</th><td>1330037</td><td>2017-05-30 01:02:59</td><td>2017-05-30 01:13:37</td><td> 637.251</td><td><span style=white-space:pre-wrap>17th St &amp; Massachusetts Ave NW             </span></td><td><span style=white-space:pre-wrap>5th &amp; K St NW                                      </span></td><td>Subscriber</td></tr>\n",
       "\t<tr><th scope=row>4</th><td> 665458</td><td>2017-04-02 07:48:35</td><td>2017-04-02 08:19:03</td><td>1827.341</td><td><span style=white-space:pre-wrap>Constitution Ave &amp; 2nd St NW/DOL           </span></td><td><span style=white-space:pre-wrap>M St &amp; Pennsylvania Ave NW                         </span></td><td><span style=white-space:pre-wrap>Customer  </span></td></tr>\n",
       "\t<tr><th scope=row>5</th><td>1481135</td><td>2017-06-10 08:36:28</td><td>2017-06-10 09:02:17</td><td>1549.427</td><td>Henry Bacon Dr &amp; Lincoln Memorial Circle NW</td><td><span style=white-space:pre-wrap>Maine Ave &amp; 7th St SW                              </span></td><td>Subscriber</td></tr>\n",
       "\t<tr><th scope=row>6</th><td>1148202</td><td>2017-05-14 07:18:18</td><td>2017-05-14 07:24:56</td><td> 398.000</td><td><span style=white-space:pre-wrap>1st &amp; K St SE                              </span></td><td>Eastern Market Metro / Pennsylvania Ave &amp; 7th St SE</td><td>Subscriber</td></tr>\n",
       "</tbody>\n",
       "</table>\n"
      ],
      "text/latex": [
       "A data.frame: 6 × 7\n",
       "\\begin{tabular}{r|lllllll}\n",
       "  & X & Start.Time & End.Time & Trip.Duration & Start.Station & End.Station & User.Type\\\\\n",
       "  & <int> & <chr> & <chr> & <dbl> & <chr> & <chr> & <chr>\\\\\n",
       "\\hline\n",
       "\t1 & 1621326 & 2017-06-21 08:36:34 & 2017-06-21 08:44:43 &  489.066 & 14th \\& Belmont St NW                        & 15th \\& K St NW                                      & Subscriber\\\\\n",
       "\t2 &  482740 & 2017-03-11 10:40:00 & 2017-03-11 10:46:00 &  402.549 & Yuma St \\& Tenley Circle NW                  & Connecticut Ave \\& Yuma St NW                        & Subscriber\\\\\n",
       "\t3 & 1330037 & 2017-05-30 01:02:59 & 2017-05-30 01:13:37 &  637.251 & 17th St \\& Massachusetts Ave NW              & 5th \\& K St NW                                       & Subscriber\\\\\n",
       "\t4 &  665458 & 2017-04-02 07:48:35 & 2017-04-02 08:19:03 & 1827.341 & Constitution Ave \\& 2nd St NW/DOL            & M St \\& Pennsylvania Ave NW                          & Customer  \\\\\n",
       "\t5 & 1481135 & 2017-06-10 08:36:28 & 2017-06-10 09:02:17 & 1549.427 & Henry Bacon Dr \\& Lincoln Memorial Circle NW & Maine Ave \\& 7th St SW                               & Subscriber\\\\\n",
       "\t6 & 1148202 & 2017-05-14 07:18:18 & 2017-05-14 07:24:56 &  398.000 & 1st \\& K St SE                               & Eastern Market Metro / Pennsylvania Ave \\& 7th St SE & Subscriber\\\\\n",
       "\\end{tabular}\n"
      ],
      "text/markdown": [
       "\n",
       "A data.frame: 6 × 7\n",
       "\n",
       "| <!--/--> | X &lt;int&gt; | Start.Time &lt;chr&gt; | End.Time &lt;chr&gt; | Trip.Duration &lt;dbl&gt; | Start.Station &lt;chr&gt; | End.Station &lt;chr&gt; | User.Type &lt;chr&gt; |\n",
       "|---|---|---|---|---|---|---|---|\n",
       "| 1 | 1621326 | 2017-06-21 08:36:34 | 2017-06-21 08:44:43 |  489.066 | 14th &amp; Belmont St NW                        | 15th &amp; K St NW                                      | Subscriber |\n",
       "| 2 |  482740 | 2017-03-11 10:40:00 | 2017-03-11 10:46:00 |  402.549 | Yuma St &amp; Tenley Circle NW                  | Connecticut Ave &amp; Yuma St NW                        | Subscriber |\n",
       "| 3 | 1330037 | 2017-05-30 01:02:59 | 2017-05-30 01:13:37 |  637.251 | 17th St &amp; Massachusetts Ave NW              | 5th &amp; K St NW                                       | Subscriber |\n",
       "| 4 |  665458 | 2017-04-02 07:48:35 | 2017-04-02 08:19:03 | 1827.341 | Constitution Ave &amp; 2nd St NW/DOL            | M St &amp; Pennsylvania Ave NW                          | Customer   |\n",
       "| 5 | 1481135 | 2017-06-10 08:36:28 | 2017-06-10 09:02:17 | 1549.427 | Henry Bacon Dr &amp; Lincoln Memorial Circle NW | Maine Ave &amp; 7th St SW                               | Subscriber |\n",
       "| 6 | 1148202 | 2017-05-14 07:18:18 | 2017-05-14 07:24:56 |  398.000 | 1st &amp; K St SE                               | Eastern Market Metro / Pennsylvania Ave &amp; 7th St SE | Subscriber |\n",
       "\n"
      ],
      "text/plain": [
       "  X       Start.Time          End.Time            Trip.Duration\n",
       "1 1621326 2017-06-21 08:36:34 2017-06-21 08:44:43  489.066     \n",
       "2  482740 2017-03-11 10:40:00 2017-03-11 10:46:00  402.549     \n",
       "3 1330037 2017-05-30 01:02:59 2017-05-30 01:13:37  637.251     \n",
       "4  665458 2017-04-02 07:48:35 2017-04-02 08:19:03 1827.341     \n",
       "5 1481135 2017-06-10 08:36:28 2017-06-10 09:02:17 1549.427     \n",
       "6 1148202 2017-05-14 07:18:18 2017-05-14 07:24:56  398.000     \n",
       "  Start.Station                              \n",
       "1 14th & Belmont St NW                       \n",
       "2 Yuma St & Tenley Circle NW                 \n",
       "3 17th St & Massachusetts Ave NW             \n",
       "4 Constitution Ave & 2nd St NW/DOL           \n",
       "5 Henry Bacon Dr & Lincoln Memorial Circle NW\n",
       "6 1st & K St SE                              \n",
       "  End.Station                                         User.Type \n",
       "1 15th & K St NW                                      Subscriber\n",
       "2 Connecticut Ave & Yuma St NW                        Subscriber\n",
       "3 5th & K St NW                                       Subscriber\n",
       "4 M St & Pennsylvania Ave NW                          Customer  \n",
       "5 Maine Ave & 7th St SW                               Subscriber\n",
       "6 Eastern Market Metro / Pennsylvania Ave & 7th St SE Subscriber"
      ]
     },
     "metadata": {},
     "output_type": "display_data"
    }
   ],
   "source": [
    "head(wash)"
   ]
  },
  {
   "cell_type": "code",
   "execution_count": 34,
   "metadata": {
    "vscode": {
     "languageId": "r"
    }
   },
   "outputs": [
    {
     "data": {
      "text/html": [
       "<table class=\"dataframe\">\n",
       "<caption>A data.frame: 6 × 9</caption>\n",
       "<thead>\n",
       "\t<tr><th></th><th scope=col>X</th><th scope=col>Start.Time</th><th scope=col>End.Time</th><th scope=col>Trip.Duration</th><th scope=col>Start.Station</th><th scope=col>End.Station</th><th scope=col>User.Type</th><th scope=col>Gender</th><th scope=col>Birth.Year</th></tr>\n",
       "\t<tr><th></th><th scope=col>&lt;int&gt;</th><th scope=col>&lt;chr&gt;</th><th scope=col>&lt;chr&gt;</th><th scope=col>&lt;int&gt;</th><th scope=col>&lt;chr&gt;</th><th scope=col>&lt;chr&gt;</th><th scope=col>&lt;chr&gt;</th><th scope=col>&lt;chr&gt;</th><th scope=col>&lt;dbl&gt;</th></tr>\n",
       "</thead>\n",
       "<tbody>\n",
       "\t<tr><th scope=row>1</th><td>1423854</td><td>2017-06-23 15:09:32</td><td>2017-06-23 15:14:53</td><td> 321</td><td><span style=white-space:pre-wrap>Wood St &amp; Hubbard St         </span></td><td><span style=white-space:pre-wrap>Damen Ave &amp; Chicago Ave     </span></td><td>Subscriber</td><td><span style=white-space:pre-wrap>Male  </span></td><td>1992</td></tr>\n",
       "\t<tr><th scope=row>2</th><td> 955915</td><td>2017-05-25 18:19:03</td><td>2017-05-25 18:45:53</td><td>1610</td><td><span style=white-space:pre-wrap>Theater on the Lake          </span></td><td>Sheffield Ave &amp; Waveland Ave</td><td>Subscriber</td><td>Female</td><td>1992</td></tr>\n",
       "\t<tr><th scope=row>3</th><td><span style=white-space:pre-wrap>   9031</span></td><td>2017-01-04 08:27:49</td><td>2017-01-04 08:34:45</td><td> 416</td><td><span style=white-space:pre-wrap>May St &amp; Taylor St           </span></td><td><span style=white-space:pre-wrap>Wood St &amp; Taylor St         </span></td><td>Subscriber</td><td><span style=white-space:pre-wrap>Male  </span></td><td>1981</td></tr>\n",
       "\t<tr><th scope=row>4</th><td> 304487</td><td>2017-03-06 13:49:38</td><td>2017-03-06 13:55:28</td><td> 350</td><td>Christiana Ave &amp; Lawrence Ave</td><td>St. Louis Ave &amp; Balmoral Ave</td><td>Subscriber</td><td><span style=white-space:pre-wrap>Male  </span></td><td>1986</td></tr>\n",
       "\t<tr><th scope=row>5</th><td><span style=white-space:pre-wrap>  45207</span></td><td>2017-01-17 14:53:07</td><td>2017-01-17 15:02:01</td><td> 534</td><td><span style=white-space:pre-wrap>Clark St &amp; Randolph St       </span></td><td>Desplaines St &amp; Jackson Blvd</td><td>Subscriber</td><td><span style=white-space:pre-wrap>Male  </span></td><td>1975</td></tr>\n",
       "\t<tr><th scope=row>6</th><td>1473887</td><td>2017-06-26 09:01:20</td><td>2017-06-26 09:11:06</td><td> 586</td><td>Clinton St &amp; Washington Blvd </td><td><span style=white-space:pre-wrap>Canal St &amp; Taylor St        </span></td><td>Subscriber</td><td><span style=white-space:pre-wrap>Male  </span></td><td>1990</td></tr>\n",
       "</tbody>\n",
       "</table>\n"
      ],
      "text/latex": [
       "A data.frame: 6 × 9\n",
       "\\begin{tabular}{r|lllllllll}\n",
       "  & X & Start.Time & End.Time & Trip.Duration & Start.Station & End.Station & User.Type & Gender & Birth.Year\\\\\n",
       "  & <int> & <chr> & <chr> & <int> & <chr> & <chr> & <chr> & <chr> & <dbl>\\\\\n",
       "\\hline\n",
       "\t1 & 1423854 & 2017-06-23 15:09:32 & 2017-06-23 15:14:53 &  321 & Wood St \\& Hubbard St          & Damen Ave \\& Chicago Ave      & Subscriber & Male   & 1992\\\\\n",
       "\t2 &  955915 & 2017-05-25 18:19:03 & 2017-05-25 18:45:53 & 1610 & Theater on the Lake           & Sheffield Ave \\& Waveland Ave & Subscriber & Female & 1992\\\\\n",
       "\t3 &    9031 & 2017-01-04 08:27:49 & 2017-01-04 08:34:45 &  416 & May St \\& Taylor St            & Wood St \\& Taylor St          & Subscriber & Male   & 1981\\\\\n",
       "\t4 &  304487 & 2017-03-06 13:49:38 & 2017-03-06 13:55:28 &  350 & Christiana Ave \\& Lawrence Ave & St. Louis Ave \\& Balmoral Ave & Subscriber & Male   & 1986\\\\\n",
       "\t5 &   45207 & 2017-01-17 14:53:07 & 2017-01-17 15:02:01 &  534 & Clark St \\& Randolph St        & Desplaines St \\& Jackson Blvd & Subscriber & Male   & 1975\\\\\n",
       "\t6 & 1473887 & 2017-06-26 09:01:20 & 2017-06-26 09:11:06 &  586 & Clinton St \\& Washington Blvd  & Canal St \\& Taylor St         & Subscriber & Male   & 1990\\\\\n",
       "\\end{tabular}\n"
      ],
      "text/markdown": [
       "\n",
       "A data.frame: 6 × 9\n",
       "\n",
       "| <!--/--> | X &lt;int&gt; | Start.Time &lt;chr&gt; | End.Time &lt;chr&gt; | Trip.Duration &lt;int&gt; | Start.Station &lt;chr&gt; | End.Station &lt;chr&gt; | User.Type &lt;chr&gt; | Gender &lt;chr&gt; | Birth.Year &lt;dbl&gt; |\n",
       "|---|---|---|---|---|---|---|---|---|---|\n",
       "| 1 | 1423854 | 2017-06-23 15:09:32 | 2017-06-23 15:14:53 |  321 | Wood St &amp; Hubbard St          | Damen Ave &amp; Chicago Ave      | Subscriber | Male   | 1992 |\n",
       "| 2 |  955915 | 2017-05-25 18:19:03 | 2017-05-25 18:45:53 | 1610 | Theater on the Lake           | Sheffield Ave &amp; Waveland Ave | Subscriber | Female | 1992 |\n",
       "| 3 |    9031 | 2017-01-04 08:27:49 | 2017-01-04 08:34:45 |  416 | May St &amp; Taylor St            | Wood St &amp; Taylor St          | Subscriber | Male   | 1981 |\n",
       "| 4 |  304487 | 2017-03-06 13:49:38 | 2017-03-06 13:55:28 |  350 | Christiana Ave &amp; Lawrence Ave | St. Louis Ave &amp; Balmoral Ave | Subscriber | Male   | 1986 |\n",
       "| 5 |   45207 | 2017-01-17 14:53:07 | 2017-01-17 15:02:01 |  534 | Clark St &amp; Randolph St        | Desplaines St &amp; Jackson Blvd | Subscriber | Male   | 1975 |\n",
       "| 6 | 1473887 | 2017-06-26 09:01:20 | 2017-06-26 09:11:06 |  586 | Clinton St &amp; Washington Blvd  | Canal St &amp; Taylor St         | Subscriber | Male   | 1990 |\n",
       "\n"
      ],
      "text/plain": [
       "  X       Start.Time          End.Time            Trip.Duration\n",
       "1 1423854 2017-06-23 15:09:32 2017-06-23 15:14:53  321         \n",
       "2  955915 2017-05-25 18:19:03 2017-05-25 18:45:53 1610         \n",
       "3    9031 2017-01-04 08:27:49 2017-01-04 08:34:45  416         \n",
       "4  304487 2017-03-06 13:49:38 2017-03-06 13:55:28  350         \n",
       "5   45207 2017-01-17 14:53:07 2017-01-17 15:02:01  534         \n",
       "6 1473887 2017-06-26 09:01:20 2017-06-26 09:11:06  586         \n",
       "  Start.Station                 End.Station                  User.Type  Gender\n",
       "1 Wood St & Hubbard St          Damen Ave & Chicago Ave      Subscriber Male  \n",
       "2 Theater on the Lake           Sheffield Ave & Waveland Ave Subscriber Female\n",
       "3 May St & Taylor St            Wood St & Taylor St          Subscriber Male  \n",
       "4 Christiana Ave & Lawrence Ave St. Louis Ave & Balmoral Ave Subscriber Male  \n",
       "5 Clark St & Randolph St        Desplaines St & Jackson Blvd Subscriber Male  \n",
       "6 Clinton St & Washington Blvd  Canal St & Taylor St         Subscriber Male  \n",
       "  Birth.Year\n",
       "1 1992      \n",
       "2 1992      \n",
       "3 1981      \n",
       "4 1986      \n",
       "5 1975      \n",
       "6 1990      "
      ]
     },
     "metadata": {},
     "output_type": "display_data"
    }
   ],
   "source": [
    "head(chi)"
   ]
  },
  {
   "attachments": {},
   "cell_type": "markdown",
   "metadata": {},
   "source": [
    "## Data Wrangling\n",
    "After observation of the three datasets, some wrangling is in order.\n",
    "- Visual inspection of files. Deleted last row in each that had incomplete data.\n",
    "- Add a City column to each df\n",
    "- Convert Trip.Duration for Washington to int\n",
    "- Add Gender and Birth.Year to wash to make df's consistent\n",
    "- Append the 3 df's into a single df\n",
    "- Parse Start.Time into Month, Day, Day of Week\n",
    "- Parse Start.Time into new timediff columns Rental.Start"
   ]
  },
  {
   "cell_type": "code",
   "execution_count": 198,
   "metadata": {
    "vscode": {
     "languageId": "r"
    }
   },
   "outputs": [],
   "source": [
    "# Add City column to the 3 dataframes\n",
    "# https://www.geeksforgeeks.org/how-to-add-an-empty-column-to-dataframe-in-r/\n",
    "\n",
    "ny[,'City'] = 'NY'\n",
    "wash[,'City'] = 'DC'\n",
    "chi[,'City'] = 'CH'\n",
    "\n",
    "# Convert Trip.Duration for Wash to int and hide the resulting output\n",
    "invisible(transform(wash, Trip.Duration = as.integer(Trip.Duration)))\n",
    "\n",
    "# Add Gender and Birth.Year to wash\n",
    "wash[,c('Gender', 'Birth.Year')] = 'NA'\n",
    "\n",
    "# Append the 3 df's into a single master\n",
    "dfMaster = rbind(ny, wash)\n",
    "dfMaster = rbind(dfMaster, chi)\n",
    "\n",
    "# Parse Start.Time into Month, Day, Day of Week columns\n",
    "dfMaster[,'Year'] = as.integer(format(as.Date(dfMaster$Start.Time, '%Y-%m-%d'), '%Y'))\n",
    "dfMaster[,'Month'] = as.integer(format(as.Date(dfMaster$Start.Time, '%Y-%m-%d'), '%m'))\n",
    "dfMaster[,'Day'] = as.integer(format(as.Date(dfMaster$Start.Time, '%Y-%m-%d'), '%d'))\n",
    "dfMaster[,'Day.Of.Week'] = as.integer(format(as.Date(dfMaster$Start.Time, '%Y-%m-%d'), '%u'))   # Monday is 1\n",
    "\n",
    "# Convert Start.Time into Start.Rental (timediff variable)\n",
    "# https://statisticsglobe.com/extract-hour-minutes-seconds-from-date-in-r\n",
    "\n",
    "#dfMaster[,'Rental.Start'] = as_hms(format(as.POSIXct(dfMaster$Start.Time), \n",
    "#                            format = '%H:%M:%S'))\n",
    "\n"
   ]
  },
  {
   "cell_type": "code",
   "execution_count": 199,
   "metadata": {
    "vscode": {
     "languageId": "r"
    }
   },
   "outputs": [
    {
     "data": {
      "text/html": [
       "<table class=\"dataframe\">\n",
       "<caption>A data.frame: 6 × 14</caption>\n",
       "<thead>\n",
       "\t<tr><th></th><th scope=col>X</th><th scope=col>Start.Time</th><th scope=col>End.Time</th><th scope=col>Trip.Duration</th><th scope=col>Start.Station</th><th scope=col>End.Station</th><th scope=col>User.Type</th><th scope=col>Gender</th><th scope=col>Birth.Year</th><th scope=col>City</th><th scope=col>Year</th><th scope=col>Month</th><th scope=col>Day</th><th scope=col>Day.Of.Week</th></tr>\n",
       "\t<tr><th></th><th scope=col>&lt;int&gt;</th><th scope=col>&lt;chr&gt;</th><th scope=col>&lt;chr&gt;</th><th scope=col>&lt;dbl&gt;</th><th scope=col>&lt;chr&gt;</th><th scope=col>&lt;chr&gt;</th><th scope=col>&lt;chr&gt;</th><th scope=col>&lt;chr&gt;</th><th scope=col>&lt;chr&gt;</th><th scope=col>&lt;chr&gt;</th><th scope=col>&lt;int&gt;</th><th scope=col>&lt;int&gt;</th><th scope=col>&lt;int&gt;</th><th scope=col>&lt;int&gt;</th></tr>\n",
       "</thead>\n",
       "<tbody>\n",
       "\t<tr><th scope=row>1</th><td>5688089</td><td>2017-06-11 14:55:05</td><td>2017-06-11 15:08:21</td><td> 795</td><td>Suffolk St &amp; Stanton St</td><td>W Broadway &amp; Spring St</td><td>Subscriber</td><td><span style=white-space:pre-wrap>Male  </span></td><td>1998</td><td>NY</td><td>2017</td><td>6</td><td>11</td><td>7</td></tr>\n",
       "\t<tr><th scope=row>2</th><td>4096714</td><td>2017-05-11 15:30:11</td><td>2017-05-11 15:41:43</td><td> 692</td><td>Lexington Ave &amp; E 63 St</td><td><span style=white-space:pre-wrap>1 Ave &amp; E 78 St       </span></td><td>Subscriber</td><td><span style=white-space:pre-wrap>Male  </span></td><td>1981</td><td>NY</td><td>2017</td><td>5</td><td>11</td><td>4</td></tr>\n",
       "\t<tr><th scope=row>3</th><td>2173887</td><td>2017-03-29 13:26:26</td><td>2017-03-29 13:48:31</td><td>1325</td><td><span style=white-space:pre-wrap>1 Pl &amp; Clinton St      </span></td><td><span style=white-space:pre-wrap>Henry St &amp; Degraw St  </span></td><td>Subscriber</td><td><span style=white-space:pre-wrap>Male  </span></td><td>1987</td><td>NY</td><td>2017</td><td>3</td><td>29</td><td>3</td></tr>\n",
       "\t<tr><th scope=row>4</th><td>3945638</td><td>2017-05-08 19:47:18</td><td>2017-05-08 19:59:01</td><td> 703</td><td><span style=white-space:pre-wrap>Barrow St &amp; Hudson St  </span></td><td><span style=white-space:pre-wrap>W 20 St &amp; 8 Ave       </span></td><td>Subscriber</td><td>Female</td><td>1986</td><td>NY</td><td>2017</td><td>5</td><td> 8</td><td>1</td></tr>\n",
       "\t<tr><th scope=row>5</th><td>6208972</td><td>2017-06-21 07:49:16</td><td>2017-06-21 07:54:46</td><td> 329</td><td><span style=white-space:pre-wrap>1 Ave &amp; E 44 St        </span></td><td><span style=white-space:pre-wrap>E 53 St &amp; 3 Ave       </span></td><td>Subscriber</td><td><span style=white-space:pre-wrap>Male  </span></td><td>1992</td><td>NY</td><td>2017</td><td>6</td><td>21</td><td>3</td></tr>\n",
       "\t<tr><th scope=row>6</th><td>1285652</td><td>2017-02-22 18:55:24</td><td>2017-02-22 19:12:03</td><td> 998</td><td><span style=white-space:pre-wrap>State St &amp; Smith St    </span></td><td><span style=white-space:pre-wrap>Bond St &amp; Fulton St   </span></td><td>Subscriber</td><td><span style=white-space:pre-wrap>Male  </span></td><td>1986</td><td>NY</td><td>2017</td><td>2</td><td>22</td><td>3</td></tr>\n",
       "</tbody>\n",
       "</table>\n"
      ],
      "text/latex": [
       "A data.frame: 6 × 14\n",
       "\\begin{tabular}{r|llllllllllllll}\n",
       "  & X & Start.Time & End.Time & Trip.Duration & Start.Station & End.Station & User.Type & Gender & Birth.Year & City & Year & Month & Day & Day.Of.Week\\\\\n",
       "  & <int> & <chr> & <chr> & <dbl> & <chr> & <chr> & <chr> & <chr> & <chr> & <chr> & <int> & <int> & <int> & <int>\\\\\n",
       "\\hline\n",
       "\t1 & 5688089 & 2017-06-11 14:55:05 & 2017-06-11 15:08:21 &  795 & Suffolk St \\& Stanton St & W Broadway \\& Spring St & Subscriber & Male   & 1998 & NY & 2017 & 6 & 11 & 7\\\\\n",
       "\t2 & 4096714 & 2017-05-11 15:30:11 & 2017-05-11 15:41:43 &  692 & Lexington Ave \\& E 63 St & 1 Ave \\& E 78 St        & Subscriber & Male   & 1981 & NY & 2017 & 5 & 11 & 4\\\\\n",
       "\t3 & 2173887 & 2017-03-29 13:26:26 & 2017-03-29 13:48:31 & 1325 & 1 Pl \\& Clinton St       & Henry St \\& Degraw St   & Subscriber & Male   & 1987 & NY & 2017 & 3 & 29 & 3\\\\\n",
       "\t4 & 3945638 & 2017-05-08 19:47:18 & 2017-05-08 19:59:01 &  703 & Barrow St \\& Hudson St   & W 20 St \\& 8 Ave        & Subscriber & Female & 1986 & NY & 2017 & 5 &  8 & 1\\\\\n",
       "\t5 & 6208972 & 2017-06-21 07:49:16 & 2017-06-21 07:54:46 &  329 & 1 Ave \\& E 44 St         & E 53 St \\& 3 Ave        & Subscriber & Male   & 1992 & NY & 2017 & 6 & 21 & 3\\\\\n",
       "\t6 & 1285652 & 2017-02-22 18:55:24 & 2017-02-22 19:12:03 &  998 & State St \\& Smith St     & Bond St \\& Fulton St    & Subscriber & Male   & 1986 & NY & 2017 & 2 & 22 & 3\\\\\n",
       "\\end{tabular}\n"
      ],
      "text/markdown": [
       "\n",
       "A data.frame: 6 × 14\n",
       "\n",
       "| <!--/--> | X &lt;int&gt; | Start.Time &lt;chr&gt; | End.Time &lt;chr&gt; | Trip.Duration &lt;dbl&gt; | Start.Station &lt;chr&gt; | End.Station &lt;chr&gt; | User.Type &lt;chr&gt; | Gender &lt;chr&gt; | Birth.Year &lt;chr&gt; | City &lt;chr&gt; | Year &lt;int&gt; | Month &lt;int&gt; | Day &lt;int&gt; | Day.Of.Week &lt;int&gt; |\n",
       "|---|---|---|---|---|---|---|---|---|---|---|---|---|---|---|\n",
       "| 1 | 5688089 | 2017-06-11 14:55:05 | 2017-06-11 15:08:21 |  795 | Suffolk St &amp; Stanton St | W Broadway &amp; Spring St | Subscriber | Male   | 1998 | NY | 2017 | 6 | 11 | 7 |\n",
       "| 2 | 4096714 | 2017-05-11 15:30:11 | 2017-05-11 15:41:43 |  692 | Lexington Ave &amp; E 63 St | 1 Ave &amp; E 78 St        | Subscriber | Male   | 1981 | NY | 2017 | 5 | 11 | 4 |\n",
       "| 3 | 2173887 | 2017-03-29 13:26:26 | 2017-03-29 13:48:31 | 1325 | 1 Pl &amp; Clinton St       | Henry St &amp; Degraw St   | Subscriber | Male   | 1987 | NY | 2017 | 3 | 29 | 3 |\n",
       "| 4 | 3945638 | 2017-05-08 19:47:18 | 2017-05-08 19:59:01 |  703 | Barrow St &amp; Hudson St   | W 20 St &amp; 8 Ave        | Subscriber | Female | 1986 | NY | 2017 | 5 |  8 | 1 |\n",
       "| 5 | 6208972 | 2017-06-21 07:49:16 | 2017-06-21 07:54:46 |  329 | 1 Ave &amp; E 44 St         | E 53 St &amp; 3 Ave        | Subscriber | Male   | 1992 | NY | 2017 | 6 | 21 | 3 |\n",
       "| 6 | 1285652 | 2017-02-22 18:55:24 | 2017-02-22 19:12:03 |  998 | State St &amp; Smith St     | Bond St &amp; Fulton St    | Subscriber | Male   | 1986 | NY | 2017 | 2 | 22 | 3 |\n",
       "\n"
      ],
      "text/plain": [
       "  X       Start.Time          End.Time            Trip.Duration\n",
       "1 5688089 2017-06-11 14:55:05 2017-06-11 15:08:21  795         \n",
       "2 4096714 2017-05-11 15:30:11 2017-05-11 15:41:43  692         \n",
       "3 2173887 2017-03-29 13:26:26 2017-03-29 13:48:31 1325         \n",
       "4 3945638 2017-05-08 19:47:18 2017-05-08 19:59:01  703         \n",
       "5 6208972 2017-06-21 07:49:16 2017-06-21 07:54:46  329         \n",
       "6 1285652 2017-02-22 18:55:24 2017-02-22 19:12:03  998         \n",
       "  Start.Station           End.Station            User.Type  Gender Birth.Year\n",
       "1 Suffolk St & Stanton St W Broadway & Spring St Subscriber Male   1998      \n",
       "2 Lexington Ave & E 63 St 1 Ave & E 78 St        Subscriber Male   1981      \n",
       "3 1 Pl & Clinton St       Henry St & Degraw St   Subscriber Male   1987      \n",
       "4 Barrow St & Hudson St   W 20 St & 8 Ave        Subscriber Female 1986      \n",
       "5 1 Ave & E 44 St         E 53 St & 3 Ave        Subscriber Male   1992      \n",
       "6 State St & Smith St     Bond St & Fulton St    Subscriber Male   1986      \n",
       "  City Year Month Day Day.Of.Week\n",
       "1 NY   2017 6     11  7          \n",
       "2 NY   2017 5     11  4          \n",
       "3 NY   2017 3     29  3          \n",
       "4 NY   2017 5      8  1          \n",
       "5 NY   2017 6     21  3          \n",
       "6 NY   2017 2     22  3          "
      ]
     },
     "metadata": {},
     "output_type": "display_data"
    }
   ],
   "source": [
    "\n",
    "head(dfMaster)"
   ]
  },
  {
   "cell_type": "code",
   "execution_count": 183,
   "metadata": {
    "vscode": {
     "languageId": "r"
    }
   },
   "outputs": [
    {
     "data": {
      "text/html": [
       "<style>\n",
       ".list-inline {list-style: none; margin:0; padding: 0}\n",
       ".list-inline>li {display: inline-block}\n",
       ".list-inline>li:not(:last-child)::after {content: \"\\00b7\"; padding: 0 .5ex}\n",
       "</style>\n",
       "<ol class=list-inline><li>'Sun'</li><li>'Thu'</li><li>'Wed'</li><li>'Mon'</li><li>'Tue'</li><li>'Fri'</li><li>'Sat'</li></ol>\n"
      ],
      "text/latex": [
       "\\begin{enumerate*}\n",
       "\\item 'Sun'\n",
       "\\item 'Thu'\n",
       "\\item 'Wed'\n",
       "\\item 'Mon'\n",
       "\\item 'Tue'\n",
       "\\item 'Fri'\n",
       "\\item 'Sat'\n",
       "\\end{enumerate*}\n"
      ],
      "text/markdown": [
       "1. 'Sun'\n",
       "2. 'Thu'\n",
       "3. 'Wed'\n",
       "4. 'Mon'\n",
       "5. 'Tue'\n",
       "6. 'Fri'\n",
       "7. 'Sat'\n",
       "\n",
       "\n"
      ],
      "text/plain": [
       "[1] \"Sun\" \"Thu\" \"Wed\" \"Mon\" \"Tue\" \"Fri\" \"Sat\""
      ]
     },
     "metadata": {},
     "output_type": "display_data"
    }
   ],
   "source": [
    "unique(dfMaster$Day.Of.Week)\n"
   ]
  },
  {
   "attachments": {},
   "cell_type": "markdown",
   "metadata": {},
   "source": [
    "### Question 1\n",
    "\n",
    "\n",
    "**My initial questions on the data after doing some wrangling were based on the volume of bikeshares in each city. Which city has the most bikeshare rentals by month and are there similar trends between the cities? I also want to know which days of the week have the most bikeshare rentals brokend down by city.**"
   ]
  },
  {
   "cell_type": "code",
   "execution_count": 221,
   "metadata": {
    "vscode": {
     "languageId": "r"
    }
   },
   "outputs": [
    {
     "data": {
      "image/png": "[encoded data removed]",
      "text/plain": [
       "plot without title"
      ]
     },
     "metadata": {
      "image/png": {
       "height": 480,
       "width": 900
      }
     },
     "output_type": "display_data"
    }
   ],
   "source": [
    "# Your solution code goes here\n",
    "#days=c(unique(dfMaster$Day.Of.Week))\n",
    "plot1 <- ggplot(aes(x=Month), data=dfMaster)+\n",
    "            geom_histogram(binwidth=1, color = 'black', fill = '#099DD9')+\n",
    "            scale_x_continuous(breaks=1:6, labels=c('Jan', 'Feb', 'Mar', 'Apr', 'May', 'Jun'))+\n",
    "            facet_wrap(~City, ncol = 3)+\n",
    "            xlab('Month')+\n",
    "            ylab('Number of Bikeshares')+\n",
    "            ggtitle('Histogram of Bikeshares by City/Month')\n",
    "\n",
    "plot2 <- ggplot(aes(x=Day.Of.Week), data=dfMaster)+\n",
    "            geom_histogram(binwidth=1, color = 'black', fill = '#099DD9')+\n",
    "            scale_x_continuous(breaks=seq(1,7,1), labels=c('Mon','Tue','Wed','Thu','Fri','Sat','Sun'))+\n",
    "            facet_wrap(~City, ncol = 3)+\n",
    "            xlab('Day of Week')+\n",
    "            ylab('Number of Bikeshares')+\n",
    "            ggtitle('Histogram of Bikeshares by City/Day of Week')\n",
    "grid.arrange(plot1, plot2, ncol=2)"
   ]
  },
  {
   "attachments": {},
   "cell_type": "markdown",
   "metadata": {},
   "source": [
    "**Washington, DC has the most bikeshare rentals by a large margin, followed by NYC and the Chicago. In all three cities, the winter months show less rentals, but as we move into spring and summner, bikeshare rentals increase. When it comes to the days of the week with the most rentals, Chicago stays fairly flat. For DC, the weekday rentals spike mid-week, and the same observation can be made for NYC. One interesting point to note is that bikeshare rentals in NYC drop on the weekends significantly, while they don't in Chicago or DC.**"
   ]
  },
  {
   "attachments": {},
   "cell_type": "markdown",
   "metadata": {},
   "source": [
    "### Question 2\n",
    "\n",
    "**Your question 2 goes here.**"
   ]
  },
  {
   "cell_type": "code",
   "execution_count": null,
   "metadata": {
    "vscode": {
     "languageId": "r"
    }
   },
   "outputs": [],
   "source": [
    "# Your solution code goes here"
   ]
  },
  {
   "cell_type": "code",
   "execution_count": null,
   "metadata": {
    "vscode": {
     "languageId": "r"
    }
   },
   "outputs": [],
   "source": []
  },
  {
   "cell_type": "code",
   "execution_count": null,
   "metadata": {
    "vscode": {
     "languageId": "r"
    }
   },
   "outputs": [],
   "source": []
  },
  {
   "attachments": {},
   "cell_type": "markdown",
   "metadata": {},
   "source": [
    "**Summary of your question 2 results goes here.**"
   ]
  },
  {
   "attachments": {},
   "cell_type": "markdown",
   "metadata": {},
   "source": [
    "### Question 3\n",
    "\n",
    "**Your question 3 goes here.**"
   ]
  },
  {
   "cell_type": "code",
   "execution_count": null,
   "metadata": {
    "vscode": {
     "languageId": "r"
    }
   },
   "outputs": [],
   "source": [
    "# Your solution code goes here"
   ]
  },
  {
   "cell_type": "code",
   "execution_count": null,
   "metadata": {
    "vscode": {
     "languageId": "r"
    }
   },
   "outputs": [],
   "source": []
  },
  {
   "cell_type": "code",
   "execution_count": null,
   "metadata": {
    "vscode": {
     "languageId": "r"
    }
   },
   "outputs": [],
   "source": []
  },
  {
   "attachments": {},
   "cell_type": "markdown",
   "metadata": {},
   "source": [
    "**Summary of your question 3 results goes here.**"
   ]
  },
  {
   "attachments": {},
   "cell_type": "markdown",
   "metadata": {},
   "source": [
    "\n",
    "## Finishing Up\n",
    "\n",
    "> Congratulations!  You have reached the end of the Explore Bikeshare Data Project. You should be very proud of all you have accomplished!\n",
    "\n",
    "> **Tip**: Once you are satisfied with your work here, check over your report to make sure that it is satisfies all the areas of the [rubric](https://review.udacity.com/#!/rubrics/2508/view). \n",
    "\n",
    "\n",
    "## Directions to Submit\n",
    "\n",
    "> Before you submit your project, you need to create a .html or .pdf version of this notebook in the workspace here. To do that, run the code cell below. If it worked correctly, you should get a return code of 0, and you should see the generated .html file in the workspace directory (click on the orange Jupyter icon in the upper left).\n",
    "\n",
    "> Alternatively, you can download this report as .html via the **File** > **Download as** submenu, and then manually upload it into the workspace directory by clicking on the orange Jupyter icon in the upper left, then using the Upload button.\n",
    "\n",
    "> Once you've done this, you can submit your project by clicking on the \"Submit Project\" button in the lower right here. This will create and submit a zip file with this .ipynb doc and the .html or .pdf version you created. Congratulations!"
   ]
  },
  {
   "cell_type": "code",
   "execution_count": null,
   "metadata": {
    "vscode": {
     "languageId": "r"
    }
   },
   "outputs": [],
   "source": [
    "system('python -m nbconvert Explore_bikeshare_data.ipynb')"
   ]
  }
 ],
 "metadata": {
  "kernelspec": {
   "display_name": "R",
   "language": "R",
   "name": "ir"
  },
  "language_info": {
   "codemirror_mode": "r",
   "file_extension": ".r",
   "mimetype": "text/x-r-source",
   "name": "R",
   "pygments_lexer": "r",
   "version": "4.3.1"
  }
 },
 "nbformat": 4,
 "nbformat_minor": 2
}
